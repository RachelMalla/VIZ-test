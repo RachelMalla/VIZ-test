{
 "cells": [
  {
   "cell_type": "code",
   "execution_count": 15,
   "id": "c2d569d5",
   "metadata": {},
   "outputs": [
    {
     "name": "stdout",
     "output_type": "stream",
     "text": [
      "Enter the credit limit amount: $100\n",
      "Enter money spent per transaction: $30\n",
      "The total number of transactions possible are 0\n"
     ]
    }
   ],
   "source": [
    "TRANSACTION_FEE = '5%' #Do not change\n",
    "credit_limit = input('Enter the credit limit amount: ') #Do not change, will be in format $100\n",
    "money_spent = input('Enter money spent per transaction: ') #Do not change, will be in format $100\n",
    "money_deduc = int(money_spent[1:]) + (int(TRANSACTION_FEE[:-1])*int(money_spent[1:])) #money deducted from the credit limit per transaction\n",
    "no_of_transaction = int(int(credit_limit[1:])/money_deduc) #calculating total number of transaction \n",
    "print('The total number of transactions possible are', no_of_transaction)"
   ]
  },
  {
   "cell_type": "code",
   "execution_count": 29,
   "id": "70502e45",
   "metadata": {},
   "outputs": [
    {
     "name": "stdout",
     "output_type": "stream",
     "text": [
      "Enter the credit limit amount: $762.83\n",
      "Enter money spent per transaction: $52.93\n",
      "The total number of transactions possible are 13 .\n"
     ]
    }
   ],
   "source": [
    "TRANSACTION_FEE = '5%' #Do not change\n",
    "credit_limit = input('Enter the credit limit amount: ') #Do not change, will be in format $100\n",
    "money_spent = input('Enter money spent per transaction: ') #Do not change, will be in format $100\n",
    "money_deduc = float(money_spent[1:]) + ((float(TRANSACTION_FEE[:-1])/100)*float(money_spent[1:])) #money deducted from the credit limit per transaction\n",
    "no_of_transaction = int(float(credit_limit[1:])/money_deduc) #calculating total number of transaction \n",
    "print('The total number of transactions possible are', no_of_transaction, '.')"
   ]
  },
  {
   "cell_type": "code",
   "execution_count": 27,
   "id": "e878a1e9",
   "metadata": {},
   "outputs": [
    {
     "name": "stdout",
     "output_type": "stream",
     "text": [
      "0.05\n"
     ]
    }
   ],
   "source": [
    "x = 5\n",
    "print(x/100)"
   ]
  },
  {
   "cell_type": "code",
   "execution_count": null,
   "id": "d1a8fcdd",
   "metadata": {},
   "outputs": [],
   "source": [
    "#FINAL \n",
    "TRANSACTION_FEE = '5%' #Do not change\n",
    "credit_limit = input('Enter the credit limit amount: ') #Do not change, will be in format $100\n",
    "money_spent = input('Enter money spent per transaction: ') #Do not change, will be in format $100\n",
    "money_deduc = float(money_spent[1:]) + ((float(TRANSACTION_FEE[:-1])/100)*float(money_spent[1:])) #money deducted from the credit limit per transaction\n",
    "no_of_transaction = int(float(credit_limit[1:])/money_deduc) #calculating total number of transaction \n",
    "print('The total number of transactions possible are ' + str(no_of_transaction) + '.')\n"
   ]
  }
 ],
 "metadata": {
  "kernelspec": {
   "display_name": "Python 3",
   "language": "python",
   "name": "python3"
  },
  "language_info": {
   "codemirror_mode": {
    "name": "ipython",
    "version": 3
   },
   "file_extension": ".py",
   "mimetype": "text/x-python",
   "name": "python",
   "nbconvert_exporter": "python",
   "pygments_lexer": "ipython3",
   "version": "3.8.8"
  }
 },
 "nbformat": 4,
 "nbformat_minor": 5
}
